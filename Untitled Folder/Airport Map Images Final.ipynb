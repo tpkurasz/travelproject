{
 "cells": [
  {
   "cell_type": "code",
   "execution_count": 1,
   "metadata": {},
   "outputs": [],
   "source": [
    "import requests"
   ]
  },
  {
   "cell_type": "code",
   "execution_count": 3,
   "metadata": {},
   "outputs": [
    {
     "name": "stdout",
     "output_type": "stream",
     "text": [
      "You've booked a flight! Would you like a map of the airport terminals? Enter yes or no: yes\n",
      "What city is your airport in?: Portland\n",
      "What is the three letter IATA airport code?: PDX\n",
      "http://www.airportterminalmaps.com/Portland-PDX-airport-terminal-map\n"
     ]
    }
   ],
   "source": [
    "want_map = input(\"You've booked a flight! Would you like a map of the airport terminals? Enter yes or no: \")\n",
    "if want_map == 'yes':\n",
    "    airport_map_city = input(\"What city is your airport in?: \")\n",
    "    airport_map_code = input(\"What is the three letter IATA airport code?: \")\n",
    "    concourse = input(\"What concourse?: \")\n",
    "    map_site = 'http://www.airportterminalmaps.com/' + airport_map_city + '-' + airport_map_code + '-airport-terminal-map' + concourse + '.jpg'\n",
    "    print(map_site)\n",
    "else:\n",
    "    print(\"All set! Have a great trip!\")"
   ]
  },
  {
   "cell_type": "code",
   "execution_count": null,
   "metadata": {},
   "outputs": [],
   "source": []
  }
 ],
 "metadata": {
  "kernelspec": {
   "display_name": "Python 3",
   "language": "python",
   "name": "python3"
  },
  "language_info": {
   "codemirror_mode": {
    "name": "ipython",
    "version": 3
   },
   "file_extension": ".py",
   "mimetype": "text/x-python",
   "name": "python",
   "nbconvert_exporter": "python",
   "pygments_lexer": "ipython3",
   "version": "3.6.6"
  }
 },
 "nbformat": 4,
 "nbformat_minor": 2
}
