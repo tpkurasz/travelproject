{
 "cells": [
  {
   "cell_type": "code",
   "execution_count": 3,
   "metadata": {},
   "outputs": [
    {
     "name": "stdout",
     "output_type": "stream",
     "text": [
      "Would you like to book a flight? Enter yes or no: yes\n",
      "Enter your departure date in the following format YYYY-MM-DD: 2018-12-14\n",
      "Enter the three digit IATA code of your starting airport: SYR\n",
      "Enter the three digit IATA code of your ending airport: PDX\n"
     ]
    }
   ],
   "source": [
    "import webbrowser\n",
    "import requests\n",
    "import json\n",
    "\n",
    "\n",
    "want_book = input(\"Would you like to book a flight? Enter yes or no: \")\n",
    "if want_book == 'yes':\n",
    "    start_date = input(\"Enter your departure date in the following format YYYY-MM-DD: \")\n",
    "    start_point_code = input(\"Enter the three digit IATA code of your starting airport: \")\n",
    "    end_point_code = input(\"Enter the three digit IATA code of your ending airport: \")\n",
    "    website = 'https://www.kayak.com/flights/' + start_point_code + '-' + end_point_code + '/' + start_date\n",
    "    work = (website)\n",
    "    webbrowser.open(work)\n",
    "else:\n",
    "    print('Nice job.')"
   ]
  },
  {
   "cell_type": "code",
   "execution_count": null,
   "metadata": {},
   "outputs": [],
   "source": []
  }
 ],
 "metadata": {
  "kernelspec": {
   "display_name": "Python 3",
   "language": "python",
   "name": "python3"
  },
  "language_info": {
   "codemirror_mode": {
    "name": "ipython",
    "version": 3
   },
   "file_extension": ".py",
   "mimetype": "text/x-python",
   "name": "python",
   "nbconvert_exporter": "python",
   "pygments_lexer": "ipython3",
   "version": "3.6.6"
  }
 },
 "nbformat": 4,
 "nbformat_minor": 2
}
