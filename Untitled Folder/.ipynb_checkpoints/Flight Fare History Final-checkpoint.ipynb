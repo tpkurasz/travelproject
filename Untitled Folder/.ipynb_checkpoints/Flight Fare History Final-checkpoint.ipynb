{
 "cells": [
  {
   "cell_type": "code",
   "execution_count": 1,
   "metadata": {},
   "outputs": [],
   "source": [
    "import webbrowser\n",
    "import requests\n",
    "\n",
    "\n"
   ]
  },
  {
   "cell_type": "code",
   "execution_count": 3,
   "metadata": {},
   "outputs": [
    {
     "name": "stdout",
     "output_type": "stream",
     "text": [
      "Enter the name of your starting city (if more than one word, please replace the space with '_'): Portland\n",
      "Enter the name of your ending city (if more than one word, please replace the space with '_'): Los_Angeles\n",
      "Enter the three digit IATA code of your starting airport: PDX\n",
      "Enter the three digit IATA code of your ending airport: LAX\n"
     ]
    },
    {
     "data": {
      "text/plain": [
       "True"
      ]
     },
     "execution_count": 3,
     "metadata": {},
     "output_type": "execute_result"
    }
   ],
   "source": [
    "start_point = input(\"Enter the name of your starting city (if more than one word, please replace the space with '_'): \")\n",
    "end_point = input(\"Enter the name of your ending city (if more than one word, please replace the space with '_'): \")\n",
    "start_point_code = input(\"Enter the three digit IATA code of your starting airport: \")\n",
    "end_point_code = input(\"Enter the three digit IATA code of your ending airport: \")\n",
    "history_site = 'https://www.faredetective.com/farehistory/flights-from-'+ start_point + '-' + start_point_code + '-to-' + end_point + '-' + end_point_code +'.html'\n",
    "work = (history_site)\n",
    "webbrowser.open(work) "
   ]
  },
  {
   "cell_type": "code",
   "execution_count": null,
   "metadata": {},
   "outputs": [],
   "source": []
  }
 ],
 "metadata": {
  "kernelspec": {
   "display_name": "Python 3",
   "language": "python",
   "name": "python3"
  },
  "language_info": {
   "codemirror_mode": {
    "name": "ipython",
    "version": 3
   },
   "file_extension": ".py",
   "mimetype": "text/x-python",
   "name": "python",
   "nbconvert_exporter": "python",
   "pygments_lexer": "ipython3",
   "version": "3.6.6"
  }
 },
 "nbformat": 4,
 "nbformat_minor": 2
}
