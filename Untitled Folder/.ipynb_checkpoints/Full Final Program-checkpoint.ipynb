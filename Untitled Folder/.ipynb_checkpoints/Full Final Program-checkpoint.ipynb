{
 "cells": [
  {
   "cell_type": "code",
   "execution_count": 109,
   "metadata": {},
   "outputs": [],
   "source": [
    "import webbrowser\n",
    "import folium\n",
    "import pandas as pd"
   ]
  },
  {
   "cell_type": "code",
   "execution_count": 110,
   "metadata": {},
   "outputs": [
    {
     "name": "stdout",
     "output_type": "stream",
     "text": [
      "Eascape: Your personal travel assistant\n",
      "One stop spot for finding cheap flights and making your travels easy\n"
     ]
    },
    {
     "data": {
      "text/html": [
       "<div style=\"width:100%;\"><div style=\"position:relative;width:100%;height:0;padding-bottom:60%;\"><iframe src=\"data:text/html;charset=utf-8;base64,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\" style=\"position:absolute;width:100%;height:100%;left:0;top:0;border:none !important;\" allowfullscreen webkitallowfullscreen mozallowfullscreen></iframe></div></div>"
      ],
      "text/plain": [
       "<folium.folium.Map at 0x1163a2ef0>"
      ]
     },
     "execution_count": 110,
     "metadata": {},
     "output_type": "execute_result"
    }
   ],
   "source": [
    "print(\"Eascape: Your personal travel assistant\\nOne stop spot for finding cheap flights and making your travels easy\")\n",
    "USA = (39.8283, -98.5795)\n",
    "map = folium.Map(location=USA, zoom_start=1)\n",
    "map"
   ]
  },
  {
   "cell_type": "code",
   "execution_count": 111,
   "metadata": {},
   "outputs": [],
   "source": [
    "#function for looking at history of flight fares and finding the best times to book flights between the two locations\n",
    "def fare_history():\n",
    "    history_site = 'https://www.faredetective.com/farehistory/flights-from-'+ start_point + '-' + start_point_code + '-to-' + end_point + '-' + end_point_code +'.html'\n",
    "    history_link = (history_site)\n",
    "    webbrowser.open(history_link) \n",
    "    \n",
    "#function to find the cheapest flights between the two locations on the given date\n",
    "def flight_finder():\n",
    "    flight_site = 'https://www.kayak.com/flights/' + start_point_code + '-' + end_point_code + '/' + start_date\n",
    "    work = (flight_site)\n",
    "    webbrowser.open(work)\n",
    "    \n",
    "#function to find images of airport terminal maps\n",
    "def airport_map():\n",
    "    map_site = 'http://www.airportterminalmaps.com/' + start_point + '-' + start_point_code + '-airport-terminal-map'\n",
    "    webbrowser.open(map_site)\n"
   ]
  },
  {
   "cell_type": "code",
   "execution_count": 112,
   "metadata": {},
   "outputs": [
    {
     "name": "stdout",
     "output_type": "stream",
     "text": [
      "First, would you like to look at historical flight data?: yes\n",
      "Enter the name of your starting city (if more than one word, please replace the space with '_'): Portland\n",
      "Enter the name of your ending city (if more than one word, please replace the space with '_'): Los_Angeles\n",
      "If you need help with IATA Airport codes, go to:  https://airportcod.es/\n",
      "Enter the three digit IATA code of your starting airport: PDX\n",
      "Enter the three digit IATA code of your ending airport: LAX\n",
      "\n",
      "Okay! Would you like to look for current cheap flights?: yes\n",
      "Enter your departure date in the following format YYYY-MM-DD: 2018-12-16\n",
      "\n",
      "Would you like to find a map of the airport terminal?: yes\n",
      "Now that you are all squared away, do you need a ride to the airport?: yes\n",
      "Sign into your Uber account and schedule a ride! Here is our fare estimator: \n",
      "https://www.uber.com/fare-estimate/\n",
      "\n",
      "Safe travels! Here are some helpful links with your travel information: \n",
      "Flight fare history:  https://www.faredetective.com/farehistory/flights-from-Portland-PDX-to-Los_Angeles-LAX.html\n",
      "Current flight fares:  https://www.kayak.com/flights/PDX-LAX/2018-12-16\n",
      "Airport terminal maps:  http://www.airportterminalmaps.com/Portland-PDX-airport-terminal-map\n"
     ]
    }
   ],
   "source": [
    "history = input(\"First, would you like to look at historical flight data?: \")\n",
    "if history == 'yes':\n",
    "    codes_url = 'https://airportcod.es/'\n",
    "    start_point = input(\"Enter the name of your starting city (if more than one word, please replace the space with '_'): \")\n",
    "    end_point = input(\"Enter the name of your ending city (if more than one word, please replace the space with '_'): \")\n",
    "    print(\"If you need help with IATA Airport codes, go to: \", codes_url)\n",
    "    start_point_code = input(\"Enter the three digit IATA code of your starting airport: \")\n",
    "    end_point_code = input(\"Enter the three digit IATA code of your ending airport: \")\n",
    "    fares = fare_history()\n",
    "    find_flight = input(\"\\nOkay! Would you like to look for current cheap flights?: \")\n",
    "    if find_flight == 'yes':\n",
    "        start_date = input(\"Enter your departure date in the following format YYYY-MM-DD: \")\n",
    "        find = flight_finder()\n",
    "        maps = input(\"\\nWould you like to find a map of the airport terminal?: \")\n",
    "        if maps == 'yes':\n",
    "            terminal = airport_map()\n",
    "            ride = input(\"Now that you are all squared away, do you need a ride to the airport?: \")\n",
    "            if ride == 'yes':\n",
    "                print(\"Sign into your Uber account and schedule a ride! Here is our fare estimator: \")\n",
    "                fare_estimator = 'https://www.uber.com/fare-estimate/'\n",
    "                print(fare_estimator)\n",
    "                history_site = 'https://www.faredetective.com/farehistory/flights-from-'+ start_point + '-' + start_point_code + '-to-' + end_point + '-' + end_point_code +'.html'            \n",
    "                flight_site = 'https://www.kayak.com/flights/' + start_point_code + '-' + end_point_code + '/' + start_date\n",
    "                map_site = 'http://www.airportterminalmaps.com/' + start_point + '-' + start_point_code + '-airport-terminal-map'\n",
    "                print(\"\\nSafe travels! Here are some helpful links with your travel information: \")\n",
    "                print(\"Flight fare history: \", history_site)\n",
    "                print(\"Current flight fares: \", flight_site)\n",
    "                print(\"Airport terminal maps: \", map_site)\n",
    "            elif ride == 'no':\n",
    "                history_site = 'https://www.faredetective.com/farehistory/flights-from-'+ start_point + '-' + start_point_code + '-to-' + end_point + '-' + end_point_code +'.html'            \n",
    "                flight_site = 'https://www.kayak.com/flights/' + start_point_code + '-' + end_point_code + '/' + start_date\n",
    "                map_site = 'http://www.airportterminalmaps.com/' + start_point + '-' + start_point_code + '-airport-terminal-map'\n",
    "                print(\"\\nSafe travels! Here are some helpful links with your travel information: \")\n",
    "                print(\"Flight fare history: \", history_site)\n",
    "                print(\"Current flight fares: \", flight_site)\n",
    "                print(\"Airport terminal maps: \", map_site)\n",
    "        elif maps == 'no':\n",
    "            history_site = 'https://www.faredetective.com/farehistory/flights-from-'+ start_point + '-' + start_point_code + '-to-' + end_point + '-' + end_point_code +'.html'            \n",
    "            flight_site = 'https://www.kayak.com/flights/' + start_point_code + '-' + end_point_code + '/' + start_date\n",
    "            print(\"\\nSafe travels! Here are some helpful links with your travel information: \")\n",
    "            print(\"Flight fare history: \", history_site)\n",
    "            print(\"Current flight fares: \", flight_site)\n",
    "    elif find_flight == 'no':\n",
    "        history_site = 'https://www.faredetective.com/farehistory/flights-from-'+ start_point + '-' + start_point_code + '-to-' + end_point + '-' + end_point_code +'.html'            \n",
    "        print(\"\\nSafe travels! Here are some helpful links with your travel information: \")\n",
    "        print(\"Flight fare history: \", history_site)\n",
    "elif history == 'no':\n",
    "    find_flight = input(\"\\nOkay! Would you like to look for current cheap flights?: \")\n",
    "    if find_flight == 'yes':\n",
    "        start_date = input(\"Enter your departure date in the following format YYYY-MM-DD: \")\n",
    "        find = flight_finder()\n",
    "        maps = input(\"\\nWould you like to find a map of the airport terminal?: \")\n",
    "        if maps == 'yes':\n",
    "            terminal = airport_map()\n",
    "            ride = input(\"Now that you are all squared away, do you need a ride to the airport?: \")\n",
    "            if ride == 'yes':\n",
    "                print(\"Sign into your Uber account and schedule a ride! Here is our fare estimator: \")\n",
    "                fare_estimator = 'https://www.uber.com/fare-estimate/'\n",
    "                print(fare_estimator)\n",
    "                history_site = 'https://www.faredetective.com/farehistory/flights-from-'+ start_point + '-' + start_point_code + '-to-' + end_point + '-' + end_point_code +'.html'            \n",
    "                flight_site = 'https://www.kayak.com/flights/' + start_point_code + '-' + end_point_code + '/' + start_date\n",
    "                map_site = 'http://www.airportterminalmaps.com/' + start_point + '-' + start_point_code + '-airport-terminal-map'\n",
    "                print(\"\\nSafe travels! Here are some helpful links with your travel information: \")\n",
    "                print(\"Flight fare history: \", history_site)\n",
    "                print(\"Current flight fares: \", flight_site)\n",
    "                print(\"Airport terminal maps: \", map_site)\n",
    "            elif ride == 'no':\n",
    "                history_site = 'https://www.faredetective.com/farehistory/flights-from-'+ start_point + '-' + start_point_code + '-to-' + end_point + '-' + end_point_code +'.html'            \n",
    "                flight_site = 'https://www.kayak.com/flights/' + start_point_code + '-' + end_point_code + '/' + start_date\n",
    "                map_site = 'http://www.airportterminalmaps.com/' + start_point + '-' + start_point_code + '-airport-terminal-map'\n",
    "                print(\"\\nSafe travels! Here are some helpful links with your travel information: \")\n",
    "                print(\"Flight fare history: \", history_site)\n",
    "                print(\"Current flight fares: \", flight_site)\n",
    "                print(\"Airport terminal maps: \", map_site)\n",
    "        elif maps == 'no':\n",
    "            history_site = 'https://www.faredetective.com/farehistory/flights-from-'+ start_point + '-' + start_point_code + '-to-' + end_point + '-' + end_point_code +'.html'            \n",
    "            flight_site = 'https://www.kayak.com/flights/' + start_point_code + '-' + end_point_code + '/' + start_date\n",
    "            print(\"\\nSafe travels! Here are some helpful links with your travel information: \")\n",
    "            print(\"Flight fare history: \", history_site)\n",
    "            print(\"Current flight fares: \", flight_site)\n",
    "    elif find_flight == 'no':\n",
    "        history_site = 'https://www.faredetective.com/farehistory/flights-from-'+ start_point + '-' + start_point_code + '-to-' + end_point + '-' + end_point_code +'.html'            \n",
    "        print(\"\\nSafe travels! Here are some helpful links with your travel information: \")\n",
    "        print(\"Flight fare history: \", history_site)\n",
    "    \n",
    "    \n",
    "\n"
   ]
  },
  {
   "cell_type": "code",
   "execution_count": null,
   "metadata": {},
   "outputs": [],
   "source": [
    "\n",
    "              "
   ]
  },
  {
   "cell_type": "code",
   "execution_count": null,
   "metadata": {},
   "outputs": [],
   "source": []
  }
 ],
 "metadata": {
  "kernelspec": {
   "display_name": "Python 3",
   "language": "python",
   "name": "python3"
  }
 },
 "nbformat": 4,
 "nbformat_minor": 2
}
