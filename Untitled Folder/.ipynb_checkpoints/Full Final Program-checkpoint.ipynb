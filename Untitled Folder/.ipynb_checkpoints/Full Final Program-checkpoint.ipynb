{
 "cells": [
  {
   "cell_type": "code",
   "execution_count": 1,
   "metadata": {},
   "outputs": [],
   "source": [
    "import webbrowser\n",
    "import folium\n",
    "import pandas as pd\n",
    "import warnings\n",
    "warnings.filterwarnings('ignore')"
   ]
  },
  {
   "cell_type": "code",
   "execution_count": 2,
   "metadata": {},
   "outputs": [],
   "source": [
    "#function for looking at history of flight fares and finding the best times to book flights between the two locations\n",
    "#function developed by Taitum\n",
    "def fare_history():\n",
    "    history_site = 'https://www.faredetective.com/farehistory/flights-from-start-' + start_point_code + '-to-end-' + end_point_code +'.html'\n",
    "    history_link = (history_site)\n",
    "    webbrowser.open(history_link) \n",
    "    \n",
    "#function to find the cheapest flights between the two locations on the given date\n",
    "#function developed by Taitum\n",
    "def flight_finder():\n",
    "    flight_site = 'https://www.kayak.com/flights/' + start_point_code + '-' + end_point_code + '/' + start_date\n",
    "    work = (flight_site)\n",
    "    webbrowser.open(work)\n",
    "    \n",
    "#function to find images of airport terminal maps\n",
    "#function developed by Ryan\n",
    "def airport_map():\n",
    "    map_site = 'http://www.airportterminalmaps.com/start-' + start_point_code + '-airport-terminal-map'\n",
    "    webbrowser.open(map_site)\n",
    "\n",
    "#function for finding a ride\n",
    "#function developed by Ryan\n",
    "def uber():\n",
    "    print(\"Sign into your Uber account and schedule a ride! Here is our fare estimator: \")\n",
    "    fare_estimator = 'https://www.uber.com/fare-estimate/'\n",
    "    print(fare_estimator)\n",
    "    \n",
    "#function for printing links made through user inputs \n",
    "#function developed by Ryan\n",
    "def links():\n",
    "    print(\"\\n\\n\\nSafe travels! Here are some helpful links for your trip: \")\n",
    "    if history == 'yes':\n",
    "        print('\\nFlight fare history:\\nhttps://www.faredetective.com/farehistory/flights-from-start-' + start_point_code + '-to-end-' + end_point_code +'.html')\n",
    "    if find_flight == 'yes':\n",
    "        print('\\nCurrent flight fares:\\nhttps://www.kayak.com/flights/' + start_point_code + '-' + end_point_code + '/' + start_date)\n",
    "    if maps == 'yes':\n",
    "        print('\\nAirport terminal map:\\nhttp://www.airportterminalmaps.com/start-' + start_point_code + '-airport-terminal-map')\n",
    "\n",
    "#function for making map between two airport locations \n",
    "#function developed by Taitum\n",
    "def mapped():\n",
    "    data = pd.read_csv('US Airports Last.csv')\n",
    "    airport_start = data[ data['IATACode'] == start_point_code]\n",
    "    airport_end = data[ data['IATACode'] == end_point_code]\n",
    "    for row in airport_start.to_records():\n",
    "        pos = (row['Lat'],row['Lon'])\n",
    "        message = \"%s is the starting airport\" % (row['IATACode'])\n",
    "        marker = folium.Marker(location=pos, \n",
    "                    popup=message\n",
    "                            )\n",
    "        map.add_children(marker)\n",
    "    for row in airport_end.to_records():\n",
    "        pos = (row['Lat'],row['Lon'])\n",
    "        message = \"%s is the ending airport\" % (row['IATACode'])\n",
    "        marker = folium.Marker(location=pos, \n",
    "                    popup=message\n",
    "                                )\n",
    "        map.add_children(marker)\n",
    "    map\n",
    "    \n"
   ]
  },
  {
   "cell_type": "code",
   "execution_count": 6,
   "metadata": {},
   "outputs": [
    {
     "name": "stdout",
     "output_type": "stream",
     "text": [
      "Easy Escape: Your personal travel assistant\n",
      "One stop spot for finding cheap flights and making your travels easy\n",
      "\n",
      "First, would you like to look at historical flight data?: no\n",
      "\n",
      "Okay! Would you like to look for current cheap flights?: yes\n",
      "If you need help with finding your airport IATA Code, check out  https://airportcod.es/\n",
      "Enter the three digit IATA code of your starting airport: PDX\n",
      "Enter the three digit IATA code of your ending airport: SYR\n",
      "Enter your departure date in the following format YYYY-MM-DD: 2019-01-12\n",
      "\n",
      "Would you like to find a map of the airport terminal?: no\n",
      "\n",
      "\n",
      "\n",
      "Safe travels! Here are some helpful links for your trip: \n",
      "\n",
      "Current flight fares:\n",
      "https://www.kayak.com/flights/PDX-SYR/2019-01-12\n"
     ]
    },
    {
     "data": {
      "text/html": [
       "<div style=\"width:100%;\"><div style=\"position:relative;width:100%;height:0;padding-bottom:60%;\"><iframe src=\"data:text/html;charset=utf-8;base64,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\" style=\"position:absolute;width:100%;height:100%;left:0;top:0;border:none !important;\" allowfullscreen webkitallowfullscreen mozallowfullscreen></iframe></div></div>"
      ],
      "text/plain": [
       "<folium.folium.Map at 0x10813e278>"
      ]
     },
     "execution_count": 6,
     "metadata": {},
     "output_type": "execute_result"
    }
   ],
   "source": [
    "print(\"Easy Escape: Your personal travel assistant\\nOne stop spot for finding cheap flights and making your travels easy\\n\")   \n",
    "history = input(\"First, would you like to look at historical flight data?: \")\n",
    "airport_code = 'https://airportcod.es/'\n",
    "while True:\n",
    "    if history == 'yes':\n",
    "        print(\"If you need help with finding your airport IATA Code, check out \", airport_code)\n",
    "        start_point_code = input(\"Enter the three digit IATA code of your starting airport: \")\n",
    "        end_point_code = input(\"Enter the three digit IATA code of your ending airport: \")  \n",
    "        fares = fare_history()\n",
    "        find_flight = input(\"\\nOkay! Would you like to look for current cheap flights?: \")\n",
    "        if find_flight == 'yes':\n",
    "            start_date = input(\"Enter your departure date in the following format YYYY-MM-DD: \")\n",
    "            find = flight_finder()\n",
    "            maps = input(\"\\nWould you like to find a map of the airport terminal?: \")\n",
    "            if maps == 'yes':\n",
    "                terminal = airport_map()\n",
    "                ride = input(\"Now that you are all squared away, do you need a ride to the airport?: \")\n",
    "                if ride == 'yes':\n",
    "                    rides = uber() \n",
    "        link = links()\n",
    "        break\n",
    "    elif history == 'no':\n",
    "        find_flight = input(\"\\nOkay! Would you like to look for current cheap flights?: \")\n",
    "        if find_flight == 'yes':\n",
    "            print(\"If you need help with finding your airport IATA Code, check out \", airport_code)\n",
    "            start_point_code = input(\"Enter the three digit IATA code of your starting airport: \")    \n",
    "            end_point_code = input(\"Enter the three digit IATA code of your ending airport: \")   \n",
    "            start_date = input(\"Enter your departure date in the following format YYYY-MM-DD: \")\n",
    "            find = flight_finder()\n",
    "            maps = input(\"\\nWould you like to find a map of the airport terminal?: \")\n",
    "            if maps == 'yes':\n",
    "                terminal = airport_map()\n",
    "                ride = input(\"Now that you are all squared away, do you need a ride to the airport?: \")\n",
    "                if ride == 'yes':\n",
    "                    rides = uber()\n",
    "            link = links()\n",
    "            break\n",
    "        elif find_flight == 'no':\n",
    "            print(\"Sorry we could not help you, safe travels!\")\n",
    "            break\n",
    "    else:\n",
    "        print(\"There seems to be a problem. Please enter 'yes' or 'no' to begin.\")\n",
    "        break\n",
    "\n",
    "        \n",
    "USA = (39.8283, -98.5795)\n",
    "map = folium.Map(location=USA, zoom_start=4)\n",
    "maps = mapped()\n",
    "map "
   ]
  },
  {
   "cell_type": "code",
   "execution_count": null,
   "metadata": {},
   "outputs": [],
   "source": []
  }
 ],
 "metadata": {
  "kernelspec": {
   "display_name": "Python 3",
   "language": "python",
   "name": "python3"
  },
  "language_info": {
   "codemirror_mode": {
    "name": "ipython",
    "version": 3
   },
   "file_extension": ".py",
   "mimetype": "text/x-python",
   "name": "python",
   "nbconvert_exporter": "python",
   "pygments_lexer": "ipython3",
   "version": "3.6.6"
  }
 },
 "nbformat": 4,
 "nbformat_minor": 2
}
